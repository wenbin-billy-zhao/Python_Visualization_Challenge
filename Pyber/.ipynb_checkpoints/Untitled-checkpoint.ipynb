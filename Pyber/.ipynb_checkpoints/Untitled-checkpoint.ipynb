{
 "cells": [
  {
   "cell_type": "code",
   "execution_count": null,
   "metadata": {},
   "outputs": [],
   "source": [
    "%matplotlib inline\n",
    "# Dependencies and Setup\n",
    "import matplotlib.pyplot as plt\n",
    "import pandas as pd\n",
    "import numpy as np\n",
    "\n",
    "# File to Load (Remember to change these)\n",
    "city_data_to_load = \"data/city_data.csv\"\n",
    "ride_data_to_load = \"data/ride_data.csv\"\n",
    "\n",
    "# Read the City and Ride Data\n",
    "citydata_df = pd.read_csv(city_data_to_load)\n",
    "ridedata_df = pd.read_csv(ride_data_to_load)\n",
    "\n",
    "# Combine the data into a single dataset\n",
    "combined_df = pd.merge(ridedata_df,citydata_df, how='left')\n",
    "# Display the data table for preview\n",
    "combined_df.head()"
   ]
  },
  {
   "cell_type": "code",
   "execution_count": null,
   "metadata": {},
   "outputs": [],
   "source": [
    "## this function is used to generate custom legends for the scatter plot\n",
    "def set_color(c):\n",
    "    if c == 'Urban':\n",
    "        return 'lightcoral'\n",
    "    elif c == 'Rural':\n",
    "        return 'Gold'\n",
    "    elif c == 'Suburban':\n",
    "        return 'lightskyblue'\n",
    "    else:\n",
    "        return 'No Match'"
   ]
  },
  {
   "cell_type": "code",
   "execution_count": null,
   "metadata": {},
   "outputs": [],
   "source": [
    "grouped_by_city = combined_df.groupby(['city'])\n",
    "\n",
    "#sum_fare = grouped_by_city['fare'].sum()\n",
    "#count_fare = grouped_by_city['fare'].count()\n",
    "\n",
    "average_fare = grouped_by_city['fare'].mean()\n",
    "#average_fare = sum_fare/count_fare\n",
    "\n",
    "drivers = grouped_by_city['driver_count'].mean()\n",
    "\n",
    "city_type = grouped_by_city['type'].unique()\n",
    "## notice by using \"unique\", each city_type series element is a single item list by itself\n",
    "## to convert that to string, you end up having a '[Urban]' with square brackets as part of string\n",
    "## to remove the sq. bracket, use .str[0] function\n",
    "city_type = city_type.str[0]"
   ]
  },
  {
   "cell_type": "code",
   "execution_count": null,
   "metadata": {},
   "outputs": [],
   "source": [
    "totalrides_per_city = combined_df['city'].value_counts()\n",
    "summary_df = pd.DataFrame({\n",
    "    \"Total number of rides (Per City)\": totalrides_per_city ,\n",
    "    \"Average Fare ($)\": average_fare,\n",
    "    \"Number of drivers (Per City)\": drivers,   \n",
    "    \"City Types\": city_type\n",
    "})\n",
    "\n",
    "colorList = list(summary_df['City Types'].astype(str))\n",
    "\n",
    "for c in colorList:\n",
    "    colorList = set_color(c)\n",
    "\n",
    "# colorList= [set_color(c) for c in colorList]\n",
    "#summary_df.head()\n",
    "summary_df['color'] = colorList\n",
    "summary_df.head()"
   ]
  },
  {
   "cell_type": "code",
   "execution_count": null,
   "metadata": {},
   "outputs": [],
   "source": [
    "x=summary_df['Total number of rides (Per City)']\n",
    "y=summary_df['Average Fare ($)']\n",
    "s=summary_df['Number of drivers (Per City)']\n",
    "c=summary_df['color']\n",
    "#summary_df[\"City Types\"] = summary_df[\"City Types\"].astype(str)\n",
    "                    \n",
    "                       \n",
    "                       #colors = ['Gold', 'LightSkyBlue', 'Light Coral']\n",
    "plt.scatter(x, y, marker='o', color=c, s=(s*10), alpha=0.5)\n",
    "\n",
    "#plt.title(\"Pyber Ride Sharing Data (2016)\")\n",
    "#plt.xlabel(\"Total number of rides (Per City)\")\n",
    "#plt.ylabel(\"Average Fare ($)\")\n",
    "#plt.legend(\"City Types\")\n",
    "#plt.show()\n"
   ]
  },
  {
   "cell_type": "code",
   "execution_count": null,
   "metadata": {},
   "outputs": [],
   "source": []
  }
 ],
 "metadata": {
  "kernelspec": {
   "display_name": "Python(PythonData)",
   "language": "python",
   "name": "pytondata"
  },
  "language_info": {
   "codemirror_mode": {
    "name": "ipython",
    "version": 3
   },
   "file_extension": ".py",
   "mimetype": "text/x-python",
   "name": "python",
   "nbconvert_exporter": "python",
   "pygments_lexer": "ipython3",
   "version": "3.6.7"
  }
 },
 "nbformat": 4,
 "nbformat_minor": 2
}
